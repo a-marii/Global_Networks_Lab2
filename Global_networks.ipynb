{
 "cells": [
  {
   "cell_type": "markdown",
   "metadata": {
    "id": "YQCJvh8Qgydj"
   },
   "source": [
    "# Загрузка данных"
   ]
  },
  {
   "cell_type": "code",
   "execution_count": null,
   "metadata": {
    "id": "r25Jh_F0gxpk"
   },
   "outputs": [],
   "source": [
    "f = open('Text.txt')\n",
    "full_text=f.read()"
   ]
  },
  {
   "cell_type": "code",
   "execution_count": null,
   "metadata": {
    "colab": {
     "base_uri": "https://localhost:8080/"
    },
    "id": "39v4PiDyqgwV",
    "outputId": "211c17c5-8683-40b2-be7a-12fa439e24d6"
   },
   "outputs": [
    {
     "data": {
      "text/plain": [
       "2904"
      ]
     },
     "execution_count": 6,
     "metadata": {},
     "output_type": "execute_result"
    }
   ],
   "source": [
    "len(full_text)"
   ]
  },
  {
   "cell_type": "markdown",
   "metadata": {
    "id": "2qKU13WHg3_v"
   },
   "source": [
    "# Кодирование каждого уникального символа 8-битной последовательностью"
   ]
  },
  {
   "cell_type": "code",
   "execution_count": null,
   "metadata": {
    "id": "9Inhd-et1X-v"
   },
   "outputs": [],
   "source": [
    "def encoding(text):\n",
    "  dictionary={'':'00000000'}\n",
    "  code=1\n",
    "  for i in range(len(text)):\n",
    "    if text[i] not in dictionary:\n",
    "      temp=str(bin(code)[2:])\n",
    "      while len(temp)<8:\n",
    "        temp='0'+str(temp)\n",
    "      dictionary[text[i]] =temp\n",
    "      code+=1\n",
    "  return dictionary"
   ]
  },
  {
   "cell_type": "code",
   "execution_count": null,
   "metadata": {
    "id": "tFG1MWfv1v2h"
   },
   "outputs": [],
   "source": [
    "word_dict=encoding(full_text)"
   ]
  },
  {
   "cell_type": "code",
   "execution_count": null,
   "metadata": {
    "colab": {
     "base_uri": "https://localhost:8080/"
    },
    "id": "GCqgCrWm15g7",
    "outputId": "8f920044-3020-4f44-c7d6-2f24f63c5d58"
   },
   "outputs": [
    {
     "data": {
      "text/plain": [
       "{'': '00000000',\n",
       " 'Д': '00000001',\n",
       " 'о': '00000010',\n",
       " 'п': '00000011',\n",
       " 'у': '00000100',\n",
       " 'с': '00000101',\n",
       " 'т': '00000110',\n",
       " 'и': '00000111',\n",
       " 'м': '00001000',\n",
       " ',': '00001001',\n",
       " ' ': '00001010',\n",
       " 'н': '00001011',\n",
       " 'а': '00001100',\n",
       " 'е': '00001101',\n",
       " 'ь': '00001110',\n",
       " 'б': '00001111',\n",
       " 'щ': '00010000',\n",
       " '«': '00010001',\n",
       " 'h': '00010010',\n",
       " 'a': '00010011',\n",
       " 'b': '00010100',\n",
       " 'r': '00010101',\n",
       " '»': '00010110',\n",
       " 'к': '00010111',\n",
       " 'р': '00011000',\n",
       " 'х': '00011001',\n",
       " 'д': '00011010',\n",
       " 'з': '00011011',\n",
       " 'ш': '00011100',\n",
       " '.': '00011101',\n",
       " 'л': '00011110',\n",
       " 'я': '00011111',\n",
       " 'э': '00100000',\n",
       " 'г': '00100001',\n",
       " 'ч': '00100010',\n",
       " 'ж': '00100011',\n",
       " 'в': '00100100',\n",
       " 'К': '00100101',\n",
       " 'Х': '00100110',\n",
       " 'Н': '00100111',\n",
       " 'ы': '00101000',\n",
       " 'й': '00101001',\n",
       " 'ф': '00101010',\n",
       " 'ц': '00101011',\n",
       " '1': '00101100',\n",
       " '6': '00101101',\n",
       " 'Т': '00101110',\n",
       " '(': '00101111',\n",
       " ')': '00110000',\n",
       " '8': '00110001',\n",
       " 'A': '00110010',\n",
       " 'S': '00110011',\n",
       " 'C': '00110100',\n",
       " 'I': '00110101',\n",
       " 'И': '00110110',\n",
       " 'П': '00110111',\n",
       " 'ю': '00111000',\n",
       " 'Р': '00111001',\n",
       " 'О': '00111010',\n",
       " 'ё': '00111011',\n",
       " '—': '00111100',\n",
       " 'H': '00111101',\n",
       " 'm': '00111110',\n",
       " 'i': '00111111',\n",
       " 'n': '01000000',\n",
       " 'g': '01000001',\n",
       " 'c': '01000010',\n",
       " 'o': '01000011',\n",
       " 'd': '01000100',\n",
       " 'e': '01000101',\n",
       " 's': '01000110',\n",
       " 't': '01000111',\n",
       " 'f': '01001000',\n",
       " '-': '01001001',\n",
       " 'u': '01001010',\n",
       " 'w': '01001011',\n",
       " 'v': '01001100',\n",
       " 'q': '01001101',\n",
       " 'l': '01001110',\n",
       " 'p': '01001111',\n",
       " 'y': '01010000',\n",
       " 'R': '01010001',\n",
       " 'W': '01010010',\n",
       " '–': '01010011',\n",
       " 'x': '01010100',\n",
       " 'G': '01010101',\n",
       " ':': '01010110',\n",
       " '0': '01010111',\n",
       " '2': '01011000',\n",
       " 'k': '01011001',\n",
       " '4': '01011010',\n",
       " 'E': '01011011',\n",
       " 'P': '01011100',\n",
       " '3': '01011101',\n",
       " '5': '01011110',\n",
       " '7': '01011111',\n",
       " '9': '01100000',\n",
       " 'N': '01100001',\n",
       " 'D': '01100010',\n",
       " 'z': '01100011'}"
      ]
     },
     "execution_count": 9,
     "metadata": {},
     "output_type": "execute_result"
    }
   ],
   "source": [
    "word_dict"
   ]
  },
  {
   "cell_type": "markdown",
   "metadata": {
    "id": "-BHve1-dhSk1"
   },
   "source": [
    "# Составление информационных слов для кода Хемминга"
   ]
  },
  {
   "cell_type": "code",
   "execution_count": null,
   "metadata": {
    "id": "Cvdlb0wm2MJ6"
   },
   "outputs": [],
   "source": [
    "def codewords(text,dictionary):\n",
    "  bin_text=''\n",
    "  words=[]\n",
    "  for i in text:\n",
    "    bin_text+=dictionary[i]\n",
    "  for i in range(0,len(bin_text),103):\n",
    "    words.append(bin_text[i:i+103])\n",
    "    while len(words[-1])<103:\n",
    "      words[-1]+='0'\n",
    "  return words"
   ]
  },
  {
   "cell_type": "code",
   "execution_count": null,
   "metadata": {
    "id": "LxHmxrpM3PxH"
   },
   "outputs": [],
   "source": [
    "code_words=codewords(full_text,word_dict)"
   ]
  },
  {
   "cell_type": "markdown",
   "metadata": {
    "id": "o4dRJ8Nriedq"
   },
   "source": [
    "# CRC-64, вычисление первых контрольных сумм для каждого слова\n"
   ]
  },
  {
   "cell_type": "code",
   "execution_count": null,
   "metadata": {
    "colab": {
     "base_uri": "https://localhost:8080/"
    },
    "id": "CoXvBQUlgoWy",
    "outputId": "4bed6984-fd09-44c4-ecf1-9695afde72dc"
   },
   "outputs": [
    {
     "name": "stdout",
     "output_type": "stream",
     "text": [
      "Looking in indexes: https://pypi.org/simple, https://us-python.pkg.dev/colab-wheels/public/simple/\n",
      "Collecting crc64iso\n",
      "  Downloading crc64iso-0.0.2-py3-none-any.whl (4.6 kB)\n",
      "Installing collected packages: crc64iso\n",
      "Successfully installed crc64iso-0.0.2\n"
     ]
    }
   ],
   "source": [
    "!pip install crc64iso"
   ]
  },
  {
   "cell_type": "code",
   "execution_count": null,
   "metadata": {
    "id": "F7FAG7V7Yjj2"
   },
   "outputs": [],
   "source": [
    "from crc64iso.crc64iso import crc64\n",
    "checksum1=[crc64(i) for i in code_words]"
   ]
  },
  {
   "cell_type": "code",
   "execution_count": null,
   "metadata": {
    "colab": {
     "base_uri": "https://localhost:8080/"
    },
    "id": "2mMQE7aGwSUJ",
    "outputId": "28bdb616-b7b1-4074-b276-56011b6f275e"
   },
   "outputs": [
    {
     "data": {
      "text/plain": [
       "['8F6E5E6EDEBF3A30',\n",
       " 'EF2F1A7E2A3AFA3A',\n",
       " 'CDFF5D2955002D4F',\n",
       " '0FB5487888648CD5',\n",
       " 'B73315A2636DE5CB',\n",
       " '970CA17244D0EFDF',\n",
       " 'DCEDD49C4621F5D8',\n",
       " 'A2B2899709E5429B',\n",
       " '1314013A5D0BBED4',\n",
       " 'E0C681B18457F005',\n",
       " '80F044783850F4F3',\n",
       " '97627D6310D0C3C2',\n",
       " '73D58192F8534531',\n",
       " '5542CA97C2AF9822',\n",
       " '1758906E0332FB6B',\n",
       " 'D952C10058B98DEA',\n",
       " 'A3DA948819196F4F',\n",
       " '404857993DCBA4E1',\n",
       " '89F6D707432A8447',\n",
       " '0EC429D8DCE0059D',\n",
       " '6E48CE28B282EA34',\n",
       " '9543B75661515CEA',\n",
       " 'F65CDA7F1D459EBD',\n",
       " '697B2BF3BCC95A91',\n",
       " 'B1790E31F129CEC0',\n",
       " '555C96B77343F1BB',\n",
       " '225228F471B14B5F',\n",
       " '380F33CC43DBAC77',\n",
       " 'CEDDFB4D49E9DB04',\n",
       " 'C00FAB54ACC14BC9',\n",
       " '88EFCE1D446C5859',\n",
       " 'EC991508F19F83EB',\n",
       " 'ED772FB16272FBDF',\n",
       " '23C94D10B473FB9A',\n",
       " '2CB1EC9A2DAE0B8A',\n",
       " '7089555666E4983B',\n",
       " '4C3686897C6E4CB5',\n",
       " '78BC3F89A4754E7E',\n",
       " '03E95E9F0C9C1190',\n",
       " 'F64E40069F826750',\n",
       " 'A6B23474DFA718EA',\n",
       " '011E9A38C5FF8ABB',\n",
       " 'ABD3D39933CEDF91',\n",
       " 'BF9D3A38E2DFDC74',\n",
       " '3E102B66601C9860',\n",
       " 'BBDFFF48770A4DBF',\n",
       " '564C1ABBC9F9D5E4',\n",
       " 'C6363E192079569D',\n",
       " 'DACB48EA2C857F9A',\n",
       " 'BCFAE475AEBE3C05',\n",
       " '42373BC1F6B1EC54',\n",
       " '40C72ECB2DA1A0B2',\n",
       " '341CD0F60602097A',\n",
       " '04A6F0D2172599CB',\n",
       " 'E22AD513D1D22880',\n",
       " '951DB21C9C60ACF1',\n",
       " '25989E6DE0F1C564',\n",
       " 'C52C15133EA431B8',\n",
       " '8F5962DEFDDC9DA8',\n",
       " '9667CC4C421D9FA4',\n",
       " '8D1F157DC52E8EFC',\n",
       " '66DA408A06495112',\n",
       " 'A2831E0B207DDCBE',\n",
       " 'C668CC29A4250105',\n",
       " '0B195D9C29F6E056',\n",
       " 'F2862D12DF1EB49D',\n",
       " '207D4000857597F4',\n",
       " '148988B84332D30F',\n",
       " 'EB319438C9375F7D',\n",
       " '5A18C622F4541454',\n",
       " '3AC85B6BFD33E454',\n",
       " 'C9E903A096760621',\n",
       " '77106A076D08E0AE',\n",
       " '3500772042C12B8C',\n",
       " '1E4AE6CCB24A5CE4',\n",
       " '57AF118A2E409293',\n",
       " 'B79C38A5ADE63ECB',\n",
       " 'DB0850456BD02CB3',\n",
       " '1EC92EF196BE5F48',\n",
       " '33AED4B3CFB706B5',\n",
       " '2B7178252B3F529E',\n",
       " 'F4D0D85A1D779A9B',\n",
       " 'B66980595F5A868A',\n",
       " '77277BD0533BA9B9',\n",
       " 'A2931998008CF15E',\n",
       " 'F770FE331E8016D3',\n",
       " '2F93795A4C6EE156',\n",
       " 'F73E8E4D99B3E006',\n",
       " '285B78BEFF44ADF1',\n",
       " 'C1C69B3C90F10E55',\n",
       " 'C006FE1D01780117',\n",
       " '93AE45BFE99E507F',\n",
       " '1B024DD9D56362B2',\n",
       " '780F858741451FFA',\n",
       " 'C10B2AB409EF7E19',\n",
       " 'DD8EE38DCCE572B6',\n",
       " '9459D2B81845128A',\n",
       " '6C86358D66E22AE4',\n",
       " '7C11E0C920517DCC',\n",
       " '163401F44C51FA8C',\n",
       " '6C0545B6CCFCE697',\n",
       " '1C80319D84A58041',\n",
       " 'EE89EC16128B614B',\n",
       " '4277B6155AE9C0ED',\n",
       " 'CF32653998A1325B',\n",
       " '390A0B3163EDC49F',\n",
       " 'E2B964265440BBC2',\n",
       " '49A3345FB21CA85D',\n",
       " 'ADDBB81D662C796D',\n",
       " 'C204EF450710C8AB',\n",
       " 'EA22D63BB86F1AD2',\n",
       " 'B9003C9882A50DFF',\n",
       " '6E98E0EC89BA2960',\n",
       " 'EFB684BCF18A1E1C',\n",
       " '03E96238948F22E1',\n",
       " '092D6B9F15B576D1',\n",
       " '4363475D0B7951AB',\n",
       " 'C137C5EB38F741F0',\n",
       " 'A1577110D7A5E959',\n",
       " '43B8D11DB5C1F9F6',\n",
       " 'EC46FF1CC440DF65',\n",
       " 'D03A2657F336D59C',\n",
       " '42FA7B05147B05C8',\n",
       " 'E6029BFF92EF4DB8',\n",
       " 'A6956E2D0541653B',\n",
       " 'D3715FC7719AD1BA',\n",
       " '5A4C5838F93FD59A',\n",
       " 'CF16FEBAB901041D',\n",
       " '2C677D618EFBE037',\n",
       " '645DD6AD1CEE3A7B',\n",
       " '4200B343CB84E858',\n",
       " '980300A1044CCCEA',\n",
       " 'F21171B3F1AF052A',\n",
       " 'BB993BC8C7CA2DB8',\n",
       " '01F3B53F0578066E',\n",
       " 'B7627291954CAA13',\n",
       " 'EE3D92D18D0251D5',\n",
       " '7042A7616C238BC7',\n",
       " 'C666FC4AFBB0B329',\n",
       " '029649696232C03A',\n",
       " '3F1967965C9DE776',\n",
       " '6F28EF1D548F9C57',\n",
       " 'F1CBFF456C5FD4B2',\n",
       " 'C6B0870F4E72B187',\n",
       " '377437840D1E328B',\n",
       " 'A15FF9E5A209E16F',\n",
       " '88381A937BFE4E8D',\n",
       " 'DBED9004137417BB',\n",
       " '93FDD8A74DCDDF7F',\n",
       " '4E56D55A1CABE6BF',\n",
       " '6912DBA6B0423D2F',\n",
       " '675527089083D5BD',\n",
       " '9BCA04D45F1177AB',\n",
       " '3BED7A1853B7B3DF',\n",
       " 'F7039A272A3511CF',\n",
       " 'A3103F9096C9D32E',\n",
       " '540336F8BA2CE073',\n",
       " '94F0A509D40B70A4',\n",
       " '0F02AEEEF231517F',\n",
       " 'C7806C99E6E4B621',\n",
       " 'B73AAE80F8DFAD10',\n",
       " '80327F5DD441057E',\n",
       " 'A89824E13C75D5C6',\n",
       " '46FC77E9B705F878',\n",
       " '3817AC68E1170A0C',\n",
       " '5F245E8698B17F52',\n",
       " '1FB57491184EC5FC',\n",
       " 'AB09A818389AB860',\n",
       " 'A9460C93AF2B3CAF',\n",
       " 'EA65C38C990C3411',\n",
       " '4B91C82D1E1BA8AD',\n",
       " 'EC561145CF15EE79',\n",
       " '42DB811680A6CF64',\n",
       " '8790814DA5CAC626',\n",
       " 'B8F7CE322694868E',\n",
       " '7D76330A31F35463',\n",
       " 'AD5B8DAB7FA446C4',\n",
       " '5BEDBD4BC7BC6592',\n",
       " '7CC8F6FC35BF505B',\n",
       " 'D2231D6352A09530',\n",
       " 'A70E945838B43786',\n",
       " 'BF06B5BD2266BFFC',\n",
       " '0FC456FE34B9A415',\n",
       " '11AD581FC0B20592',\n",
       " 'F83E6529A32FDD57',\n",
       " 'EA3A3B3D9BDF8A5C',\n",
       " 'B726369B4F0C9AE6',\n",
       " '89AC8FAA5D8A2CEF',\n",
       " '7B36F85627863445',\n",
       " '64A1F1DE9E9F4B70',\n",
       " '24DCE19BB009459A',\n",
       " '4224E69C260603F8',\n",
       " '865E3ABC4D00822D',\n",
       " 'B5C28A58F27CD391',\n",
       " '174601359640CAC6',\n",
       " '1C3315CFC46893AC',\n",
       " 'F2C98D65FC22374C',\n",
       " '8610EB730AC1949E',\n",
       " 'DD57CD59C41D8029',\n",
       " '7C8B5D090C4EE87F',\n",
       " '9D6C8AE3965B8CFA',\n",
       " '1AD21832D607308B',\n",
       " 'F722FFD106901D33',\n",
       " 'B6D33AAF4AE085A9',\n",
       " 'FD4E755D019B5BDE',\n",
       " 'E86B5E5BF4AED005',\n",
       " 'ACB34E48C93EC271',\n",
       " '0D18B1CA1DDC8FB2',\n",
       " '026501BCD6841CA8',\n",
       " '108A57E65F8909EB',\n",
       " '38D23DFD4B0FCB12',\n",
       " '35A4FC4E467EEA10',\n",
       " '01D83857FC143A95',\n",
       " '0D349A09F1506ADB',\n",
       " '08E61652A345D27A',\n",
       " '28DF34CDD8FE6037',\n",
       " '654FDFFEBFA1BD90',\n",
       " '00A83BB6748BEEA4',\n",
       " '989DC05B862FFE29',\n",
       " 'A4AFA1CF0CF632FF',\n",
       " 'B6CD212DCE786E0A',\n",
       " 'E4CF65B2F183FC28',\n",
       " 'CA93BA85C5F3315B',\n",
       " '93BC536E017F5A99',\n",
       " 'AA7FFB7E3A9E9850',\n",
       " 'F719A3DC9F62AFF5']"
      ]
     },
     "execution_count": 47,
     "metadata": {},
     "output_type": "execute_result"
    }
   ],
   "source": [
    "checksum1"
   ]
  },
  {
   "cell_type": "markdown",
   "metadata": {
    "id": "SdF4BaQyilo9"
   },
   "source": [
    "# Код Хемминга, добавление контрольных бит в информационное слово"
   ]
  },
  {
   "cell_type": "code",
   "execution_count": null,
   "metadata": {
    "id": "ZFpFtSBl2AB9"
   },
   "outputs": [],
   "source": [
    "def hamming_code(words):\n",
    "  hamming_code=[]\n",
    "  for i in range(len(words)):\n",
    "    hamming_code.append(words[i])\n",
    "    for j in range(7):\n",
    "      hamming_code[i]=hamming_code[i][:2**j-1]+str(0)+hamming_code[i][2**j-1:]\n",
    "    for j in range(7):\n",
    "      start= 2**j-1+1\n",
    "      stop=2*2**j-1\n",
    "      line_sum=0\n",
    "      while start<=(len(str(hamming_code[i]))):\n",
    "        arr=[int(i) for i in hamming_code[i][start:stop]]\n",
    "        line_sum+=sum(arr)\n",
    "        start=stop+2**j\n",
    "        stop=start+2**j\n",
    "      hamming_code[i]=hamming_code[i][:2**j-1]+str(line_sum%2)+hamming_code[i][2**j:]\n",
    "  return hamming_code"
   ]
  },
  {
   "cell_type": "code",
   "execution_count": null,
   "metadata": {
    "colab": {
     "base_uri": "https://localhost:8080/"
    },
    "id": "_ktbg2jK4f0w",
    "outputId": "b6894317-06ce-4cd9-8418-ff50913774cd"
   },
   "outputs": [
    {
     "name": "stdout",
     "output_type": "stream",
     "text": [
      "Длина информационного слова с учетом контрольных бит: 110\n",
      "Количество информационных слов: 226\n"
     ]
    }
   ],
   "source": [
    "hamming_words=hamming_code(code_words)\n",
    "print('Длина информационного слова с учетом контрольных бит:',len(hamming_words[0]))\n",
    "print('Количество информационных слов:',len(hamming_words))"
   ]
  },
  {
   "cell_type": "markdown",
   "metadata": {
    "id": "Swms4J-iixQj"
   },
   "source": [
    "# Генерация случайных ошибок"
   ]
  },
  {
   "cell_type": "markdown",
   "metadata": {
    "id": "PasQ3OjpfMcy"
   },
   "source": [
    "Генерация рандомных ошибок для каждого слова"
   ]
  },
  {
   "cell_type": "code",
   "execution_count": null,
   "metadata": {
    "id": "SAvcldWd5vMy"
   },
   "outputs": [],
   "source": [
    "from random import randint\n",
    "\n",
    "random_numbers=[]\n",
    "for i in range(len(hamming_words)):\n",
    "  random_numbers.append(randint(0, len(hamming_words[i])-1))"
   ]
  },
  {
   "cell_type": "markdown",
   "metadata": {
    "id": "RxnGGRCGfRPk"
   },
   "source": [
    "Генерация рандомных номеров преложений для добавления нескольких ошибок в предложения"
   ]
  },
  {
   "cell_type": "code",
   "execution_count": null,
   "metadata": {
    "id": "0g_QItImn0IW"
   },
   "outputs": [],
   "source": [
    "from random import randint\n",
    "\n",
    "random_sentence=[]\n",
    "for i in range(40):\n",
    "  random_sentence.append(randint(len(hamming_words)-20, len(hamming_words)-1))"
   ]
  },
  {
   "cell_type": "code",
   "execution_count": null,
   "metadata": {
    "colab": {
     "base_uri": "https://localhost:8080/"
    },
    "id": "juZMBVN2n_8h",
    "outputId": "8cd8dc5f-6c42-45ab-8ab7-82958cf6cd3d"
   },
   "outputs": [
    {
     "data": {
      "text/plain": [
       "209    5\n",
       "210    3\n",
       "220    3\n",
       "207    3\n",
       "212    3\n",
       "215    3\n",
       "206    3\n",
       "214    2\n",
       "219    2\n",
       "213    2\n",
       "216    2\n",
       "221    2\n",
       "224    2\n",
       "225    2\n",
       "211    1\n",
       "217    1\n",
       "222    1\n",
       "dtype: int64"
      ]
     },
     "execution_count": 18,
     "metadata": {},
     "output_type": "execute_result"
    }
   ],
   "source": [
    "import pandas as pd\n",
    "pd.Series(random_sentence).value_counts()"
   ]
  },
  {
   "cell_type": "markdown",
   "metadata": {
    "id": "po4dgHppi92s"
   },
   "source": [
    "# Внесение ошибок"
   ]
  },
  {
   "cell_type": "markdown",
   "metadata": {
    "id": "Ws15LoGdzMku"
   },
   "source": [
    "Сообщение без ошибок"
   ]
  },
  {
   "cell_type": "code",
   "execution_count": null,
   "metadata": {
    "id": "M1yh4Tc0zMzx"
   },
   "outputs": [],
   "source": [
    "mistakes_0=hamming_words.copy()"
   ]
  },
  {
   "cell_type": "markdown",
   "metadata": {
    "id": "mDWkgJubfmmg"
   },
   "source": [
    "Внесение ошибки в каждое слово"
   ]
  },
  {
   "cell_type": "code",
   "execution_count": null,
   "metadata": {
    "id": "OtSUZru66Jai"
   },
   "outputs": [],
   "source": [
    "mistakes_1=hamming_words.copy()\n",
    "for i in range(len(hamming_words)):\n",
    "  mistakes_1[i]=mistakes_1[i][:random_numbers[i]]+str(abs(int(mistakes_1[i][random_numbers[i]])-1))+mistakes_1[i][random_numbers[i]+1:]"
   ]
  },
  {
   "cell_type": "markdown",
   "metadata": {
    "id": "bE52sp1siSin"
   },
   "source": [
    "Внесение нескольких ошибок "
   ]
  },
  {
   "cell_type": "code",
   "execution_count": null,
   "metadata": {
    "id": "FuhOzLZliSB9"
   },
   "outputs": [],
   "source": [
    "mistakes_few=hamming_words.copy()\n",
    "for i in range(len(random_sentence)):\n",
    "  mistakes_few[random_sentence[i]]=mistakes_few[random_sentence[i]][:random_numbers[i]]+str(abs(int(mistakes_few[random_sentence[i]][random_numbers[i]])-1))+mistakes_few[random_sentence[i]][random_numbers[i]+1:]"
   ]
  },
  {
   "cell_type": "markdown",
   "metadata": {
    "id": "ZtDdC9m-fwso"
   },
   "source": [
    "Выявление ошибок с помощью кода Хемминга"
   ]
  },
  {
   "cell_type": "code",
   "execution_count": null,
   "metadata": {
    "id": "zdbL9M8854FE"
   },
   "outputs": [],
   "source": [
    "def err_sent_detection(mistakes):\n",
    "  mistakes_checker=[]\n",
    "\n",
    "  for i in range(len(mistakes)):\n",
    "    mistakes_checker.append(mistakes[i])\n",
    "    for j in range(7):\n",
    "      start= 2**j-1+1\n",
    "      stop=2*2**j-1\n",
    "      line_sum=0\n",
    "      while start<=(len(str(mistakes_checker[i]))):\n",
    "        arr=[int(i) for i in mistakes_checker[i][start:stop]]\n",
    "        line_sum+=sum(arr)\n",
    "        start=stop+2**j\n",
    "        stop=start+2**j\n",
    "      mistakes_checker[i]=mistakes_checker[i][:2**j-1]+str(line_sum%2)+mistakes_checker[i][2**j:]\n",
    "  numb_sent=[]\n",
    "  for i in range(len(mistakes_checker)):\n",
    "    for j  in range(len(mistakes_checker[i])):\n",
    "      if(mistakes_checker[i][j]!=mistakes[i][j]):\n",
    "        # print(\"There is a mistake, sentence number \",i)\n",
    "        numb_sent.append(i)\n",
    "        break\n",
    "  return numb_sent"
   ]
  },
  {
   "cell_type": "code",
   "execution_count": null,
   "metadata": {
    "id": "YQAwqqzZit74"
   },
   "outputs": [],
   "source": [
    "numb_sent_0=err_sent_detection(mistakes_0)\n",
    "numb_sent_1=err_sent_detection(mistakes_1)\n",
    "numb_sent_few=err_sent_detection(mistakes_few)"
   ]
  },
  {
   "cell_type": "markdown",
   "metadata": {
    "id": "TYc0mazgjNYk"
   },
   "source": [
    "# Поиск ошибок"
   ]
  },
  {
   "cell_type": "code",
   "execution_count": null,
   "metadata": {
    "id": "wqo_61-y57pf"
   },
   "outputs": [],
   "source": [
    "def mistakes_detection(numb_sent,mistakes):\n",
    "  mistakes_checker=[]\n",
    "  mis=[]\n",
    "  for i in range(len(numb_sent)):\n",
    "    mistakes_checker.append(mistakes[numb_sent[i]])\n",
    "    mis.append([])\n",
    "    for j in range(7):\n",
    "      start= 2**j-1\n",
    "      stop=2*2**j-1\n",
    "      line_sum=0\n",
    "      while start<(len(str(mistakes_checker[i]))):\n",
    "        arr=[int(i) for i in mistakes_checker[i][start:stop]]\n",
    "        line_sum+=sum(arr)\n",
    "        start=stop+2**j\n",
    "        stop=start+2**j\n",
    "      mis[i].append(line_sum%2)\n",
    "  results=[]\n",
    "  for i in range(len(mis)):\n",
    "    result=0\n",
    "    for j in reversed(range(7)):\n",
    "      result+=mis[i][j]*2**j\n",
    "    results.append(result-1)\n",
    "  return results\n",
    "      "
   ]
  },
  {
   "cell_type": "code",
   "execution_count": null,
   "metadata": {
    "id": "qAzuKnPqj1N2"
   },
   "outputs": [],
   "source": [
    "mist_pos_0=mistakes_detection(numb_sent_0,mistakes_0)\n",
    "mist_pos_1=mistakes_detection(numb_sent_1,mistakes_1)\n",
    "mist_pos_few=mistakes_detection(numb_sent_few,mistakes_few)"
   ]
  },
  {
   "cell_type": "markdown",
   "metadata": {
    "id": "QeLreT_pmNzD"
   },
   "source": [
    "# Исправление ошибок"
   ]
  },
  {
   "cell_type": "code",
   "execution_count": null,
   "metadata": {
    "id": "0Q91Wd4T0RPh"
   },
   "outputs": [],
   "source": [
    "def mistakes_fixing(mist_pos,numb_sent, mistakes):\n",
    "  words=mistakes.copy()\n",
    "  for i in range(len(mist_pos)):\n",
    "    try:\n",
    "      words[numb_sent[i]]=words[numb_sent[i]][:mist_pos[i]]+str(abs(int(words[numb_sent[i]][mist_pos[i]])-1))+words[numb_sent[i]][mist_pos[i]+1:]\n",
    "    except IndexError: continue\n",
    "  return words\n"
   ]
  },
  {
   "cell_type": "code",
   "execution_count": null,
   "metadata": {
    "id": "E8qw9LVTzcmE"
   },
   "outputs": [],
   "source": [
    "words_0 = mistakes_fixing(mist_pos_0,numb_sent_0, mistakes_0)\n",
    "words_1 = mistakes_fixing(mist_pos_1,numb_sent_1, mistakes_1)\n",
    "words_few = mistakes_fixing(mist_pos_few,numb_sent_few, mistakes_few)"
   ]
  },
  {
   "cell_type": "markdown",
   "metadata": {
    "id": "P3gLaJ5PjhgJ"
   },
   "source": [
    "# Удаление контрольных бит"
   ]
  },
  {
   "cell_type": "code",
   "execution_count": null,
   "metadata": {
    "id": "cTPrqUFk3i-b"
   },
   "outputs": [],
   "source": [
    "def decoding(words):\n",
    "  decoder=[]\n",
    "  for i in range(len(words)):\n",
    "    decoder.append(words[i])\n",
    "    for j in reversed(range(7)):\n",
    "      decoder[i]=decoder[i][:2**j-1]+decoder[i][2**j:]\n",
    "  return decoder"
   ]
  },
  {
   "cell_type": "code",
   "execution_count": null,
   "metadata": {
    "id": "1VAHG8lu4PnO"
   },
   "outputs": [],
   "source": [
    "dec_words_0=decoding(words_0)\n",
    "dec_words_1=decoding(words_1)\n",
    "dec_words_few=decoding(words_few)"
   ]
  },
  {
   "cell_type": "markdown",
   "metadata": {
    "id": "uMlzhwwIjlzg"
   },
   "source": [
    "# Вычисление новых контрольных сумм"
   ]
  },
  {
   "cell_type": "code",
   "execution_count": null,
   "metadata": {
    "id": "nHB8vqnnzly1"
   },
   "outputs": [],
   "source": [
    "from crc64iso.crc64iso import crc64\n",
    "checksum2=[crc64(i) for i in dec_words_0]"
   ]
  },
  {
   "cell_type": "code",
   "execution_count": null,
   "metadata": {
    "colab": {
     "base_uri": "https://localhost:8080/"
    },
    "id": "zqxKcDnVznRs",
    "outputId": "2297b26a-bb44-4c49-dc7b-85fca736a152"
   },
   "outputs": [
    {
     "data": {
      "text/plain": [
       "True"
      ]
     },
     "execution_count": 31,
     "metadata": {},
     "output_type": "execute_result"
    }
   ],
   "source": [
    "checksum1==checksum2"
   ]
  },
  {
   "cell_type": "code",
   "execution_count": null,
   "metadata": {
    "id": "FKlHfbIfY1S9"
   },
   "outputs": [],
   "source": [
    "from crc64iso.crc64iso import crc64\n",
    "checksum2=[crc64(i) for i in dec_words_1]"
   ]
  },
  {
   "cell_type": "code",
   "execution_count": null,
   "metadata": {
    "colab": {
     "base_uri": "https://localhost:8080/"
    },
    "id": "zni4GZsFlXNe",
    "outputId": "f4d6aa99-8200-42bc-d9c6-410ad83bc48d"
   },
   "outputs": [
    {
     "data": {
      "text/plain": [
       "True"
      ]
     },
     "execution_count": 33,
     "metadata": {},
     "output_type": "execute_result"
    }
   ],
   "source": [
    "checksum1==checksum2"
   ]
  },
  {
   "cell_type": "code",
   "execution_count": null,
   "metadata": {
    "id": "zHloYShqnH49"
   },
   "outputs": [],
   "source": [
    "from crc64iso.crc64iso import crc64\n",
    "checksum2=[crc64(i) for i in dec_words_few]"
   ]
  },
  {
   "cell_type": "code",
   "execution_count": null,
   "metadata": {
    "colab": {
     "base_uri": "https://localhost:8080/"
    },
    "id": "24IQYSRcnKEi",
    "outputId": "48a62723-564e-4748-86e6-8237521c9587"
   },
   "outputs": [
    {
     "data": {
      "text/plain": [
       "False"
      ]
     },
     "execution_count": 35,
     "metadata": {},
     "output_type": "execute_result"
    }
   ],
   "source": [
    "checksum1==checksum2"
   ]
  },
  {
   "cell_type": "code",
   "execution_count": null,
   "metadata": {
    "colab": {
     "base_uri": "https://localhost:8080/"
    },
    "id": "CSilOpJty7Hw",
    "outputId": "8a8bf0ac-0780-46fb-a219-d27e2da20628"
   },
   "outputs": [
    {
     "data": {
      "text/plain": [
       "True"
      ]
     },
     "execution_count": 36,
     "metadata": {},
     "output_type": "execute_result"
    }
   ],
   "source": [
    "numb_sent_few==sorted(list(set(random_sentence)))"
   ]
  },
  {
   "cell_type": "code",
   "execution_count": null,
   "metadata": {
    "colab": {
     "base_uri": "https://localhost:8080/"
    },
    "id": "3qiLUWqB1nmf",
    "outputId": "4692860a-f90f-4688-cab5-f4e81d9a72ce"
   },
   "outputs": [
    {
     "name": "stdout",
     "output_type": "stream",
     "text": [
      "206 False\n",
      "207 False\n",
      "209 False\n",
      "210 False\n",
      "211 True\n",
      "212 False\n",
      "213 False\n",
      "214 False\n",
      "215 False\n",
      "216 False\n",
      "217 True\n",
      "219 False\n",
      "220 False\n",
      "221 False\n",
      "222 True\n",
      "224 False\n",
      "225 False\n"
     ]
    }
   ],
   "source": [
    "for i in numb_sent_few:\n",
    "  print(i,checksum1[i]==checksum2[i])"
   ]
  },
  {
   "cell_type": "code",
   "execution_count": null,
   "metadata": {
    "colab": {
     "base_uri": "https://localhost:8080/"
    },
    "id": "cD1S82DH2A5R",
    "outputId": "86f4db05-c9d8-46d4-ad49-05b5bff7c29d"
   },
   "outputs": [
    {
     "data": {
      "text/plain": [
       "209    5\n",
       "210    3\n",
       "220    3\n",
       "207    3\n",
       "212    3\n",
       "215    3\n",
       "206    3\n",
       "214    2\n",
       "219    2\n",
       "213    2\n",
       "216    2\n",
       "221    2\n",
       "224    2\n",
       "225    2\n",
       "211    1\n",
       "217    1\n",
       "222    1\n",
       "dtype: int64"
      ]
     },
     "execution_count": 38,
     "metadata": {},
     "output_type": "execute_result"
    }
   ],
   "source": [
    "pd.Series(random_sentence).value_counts()"
   ]
  },
  {
   "cell_type": "markdown",
   "metadata": {
    "id": "EM2uoDL0nLDZ"
   },
   "source": [
    "Вывод\n",
    "\n",
    "1) сообщения без ошибок были верно пререданы и контрольные суммы всех сообщений совпадают с исходными\n",
    "\n",
    "2) все одинарные ошибки были найдены и исправлены в каждом предложении;\n",
    "\n",
    "3) были выявлены все предложения с ошибками, но исправлены были только одиночные ошибки"
   ]
  },
  {
   "cell_type": "markdown",
   "metadata": {
    "id": "pLbcd7YYj6jq"
   },
   "source": [
    "# Декодинг"
   ]
  },
  {
   "cell_type": "code",
   "execution_count": null,
   "metadata": {
    "id": "KfBBGmSaRl9D"
   },
   "outputs": [],
   "source": [
    "def get_key(d, value):\n",
    "  try:\n",
    "    for k, v in d.items():\n",
    "      if v == value:\n",
    "        return k\n",
    "  except TypeError:\n",
    "    print(d[0])\n",
    "    return d[0]\n"
   ]
  },
  {
   "cell_type": "code",
   "execution_count": null,
   "metadata": {
    "id": "Mn_memIlTR1U"
   },
   "outputs": [],
   "source": [
    "def bin2words(dec_words):\n",
    "  full_bin=''\n",
    "  for i in range(len(dec_words)):\n",
    "    full_bin+=dec_words[i]\n",
    "  final_text=''\n",
    "  for j in range(0,len(full_bin)-7,8):\n",
    "      try:\n",
    "        final_text+=get_key(word_dict,full_bin[j:j+8])\n",
    "      except TypeError:\n",
    "        final_text+=''\n",
    "  return final_text"
   ]
  },
  {
   "cell_type": "code",
   "execution_count": null,
   "metadata": {
    "id": "nakiDnK-nq7e"
   },
   "outputs": [],
   "source": [
    "text_0=bin2words(dec_words_0)\n",
    "text_1=bin2words(dec_words_1)\n",
    "text_few=bin2words(dec_words_few)"
   ]
  },
  {
   "cell_type": "code",
   "execution_count": null,
   "metadata": {
    "colab": {
     "base_uri": "https://localhost:8080/"
    },
    "id": "dYb_U34F2WXM",
    "outputId": "739961a5-6dcd-424f-855f-46c54a4cfc3a"
   },
   "outputs": [
    {
     "data": {
      "text/plain": [
       "True"
      ]
     },
     "execution_count": 42,
     "metadata": {},
     "output_type": "execute_result"
    }
   ],
   "source": [
    "text_0==full_text"
   ]
  },
  {
   "cell_type": "code",
   "execution_count": null,
   "metadata": {
    "colab": {
     "base_uri": "https://localhost:8080/"
    },
    "id": "l9TRF935gjob",
    "outputId": "1c09b6c3-27aa-4957-c554-4c4cf5963b19"
   },
   "outputs": [
    {
     "data": {
      "text/plain": [
       "True"
      ]
     },
     "execution_count": 43,
     "metadata": {},
     "output_type": "execute_result"
    }
   ],
   "source": [
    "text_1==full_text"
   ]
  },
  {
   "cell_type": "code",
   "execution_count": null,
   "metadata": {
    "colab": {
     "base_uri": "https://localhost:8080/"
    },
    "id": "tVz3D5_xn2JT",
    "outputId": "3dda50d2-9e3e-41d2-a273-1e3b94b857f4"
   },
   "outputs": [
    {
     "data": {
      "text/plain": [
       "False"
      ]
     },
     "execution_count": 44,
     "metadata": {},
     "output_type": "execute_result"
    }
   ],
   "source": [
    "text_few==full_text"
   ]
  },
  {
   "cell_type": "code",
   "execution_count": null,
   "metadata": {
    "colab": {
     "base_uri": "https://localhost:8080/",
     "height": 227
    },
    "id": "2xUuzatEUKi6",
    "outputId": "2d724b44-e0a5-45b0-e959-babe62fc98e2"
   },
   "outputs": [
    {
     "data": {
      "application/vnd.google.colaboratory.intrinsic+json": {
       "type": "string"
      },
      "text/plain": [
       "'Допустим, у нас есть сообщение «habr», которое необходимо передать без ошибок. Для этого сначала нужно наше сообщение закодировать при помощи Кода Хэмминга. Нам необходимо представить его в бинарном виде. На этом этапе стоит определиться с, так называемой, длиной информационного слова, то есть длиной строки из нулей и единиц, которые мы будем кодировать. Допустим, у нас длина слова будет равна 16. Таким образом, нам необходимо разделить наше исходное сообщение («habr») на блоки по 16 бит, которые мы будем потом кодировать отдельно друг от друга. Так как один символ занимает в памяти 8 бит, то в одно кодируемое слово помещается ровно два ASCII символа. Итак, мы получили две бинарные строки по 16 бит. После этого процесс кодирования распараллеливается, и две части сообщения («ha» и «br») кодируются независимо друг от друга. Рассмотрим, как это делается на примере первой части. Прежде всего, необходимо вставить контрольные биты. Они вставляются в строго определённых местах — это позиции с номерами, равными степеням двойки.Hamming code is a set of error-correction codes that can be used to detect and correct the errors that can occur when the data is moved or stored from the sender to the receiver. It is a technique developed by R.W. Hamming for error correction. Redundant bits – Redundant bits are extra binary bits that are generated and added to the information-carrying bits of data transfer to ensure that no bits were lost during the data transfer.General Algorithm of Hamming code: Hamming Code is simply the use of extra parity bits to allow the identification of an error.Write the bit positions starting from 1 in binary form (1, 10, 11, 100, etc). All the bit positions that are a power of 2 are marked as parity bits (1, 2, 4, 8, etc). All the other bit positions are marked as data bits. Each data bit is included in a unique set of parity bits, as determined its bit position in binary form. a. Parity bit 1 covers all the bits positions whose binary representation includes a 1 in the least significant position (1, 3, 5, 7, 9, 11, etc). b. Parity bit 2 covers all the bits positions whose binary representation includes a 1 in the second position from the least significant bit (2, 3, 6, 7, 10, 11, etc). c. Parity bit 4 covers all the bits positions whose binary representation includes a 1 in the third position from the least significant bit (4–7, 12–15, 20–23, etc). d. Parity bit 8 covers all the bits positions whose binary representation includes a 1 in the fourth position from the least significant bit bits (8–15, 24–31, 40–47, etc). e. In general, each parity bit covers all bits where the bitwise AND of theдp«rity posisiof andдthebit position isьon-zqrz. Пince e chсcR for even paritW seс a 7arity ituto ы ifмtщe total nmbeи of onGs iN the positions it checks is odd. Sgt a parily bit 0w 0 if tдe total nomber of ones in the positions it caecRs яt even.у'"
      ]
     },
     "execution_count": 45,
     "metadata": {},
     "output_type": "execute_result"
    }
   ],
   "source": [
    "text_few"
   ]
  },
  {
   "cell_type": "code",
   "execution_count": null,
   "metadata": {
    "colab": {
     "base_uri": "https://localhost:8080/",
     "height": 227
    },
    "id": "XHCkmpLdmdIN",
    "outputId": "d95eb4fe-b235-40da-ec67-48fce5b03e1b"
   },
   "outputs": [
    {
     "data": {
      "application/vnd.google.colaboratory.intrinsic+json": {
       "type": "string"
      },
      "text/plain": [
       "'Допустим, у нас есть сообщение «habr», которое необходимо передать без ошибок. Для этого сначала нужно наше сообщение закодировать при помощи Кода Хэмминга. Нам необходимо представить его в бинарном виде. На этом этапе стоит определиться с, так называемой, длиной информационного слова, то есть длиной строки из нулей и единиц, которые мы будем кодировать. Допустим, у нас длина слова будет равна 16. Таким образом, нам необходимо разделить наше исходное сообщение («habr») на блоки по 16 бит, которые мы будем потом кодировать отдельно друг от друга. Так как один символ занимает в памяти 8 бит, то в одно кодируемое слово помещается ровно два ASCII символа. Итак, мы получили две бинарные строки по 16 бит. После этого процесс кодирования распараллеливается, и две части сообщения («ha» и «br») кодируются независимо друг от друга. Рассмотрим, как это делается на примере первой части. Прежде всего, необходимо вставить контрольные биты. Они вставляются в строго определённых местах — это позиции с номерами, равными степеням двойки.Hamming code is a set of error-correction codes that can be used to detect and correct the errors that can occur when the data is moved or stored from the sender to the receiver. It is a technique developed by R.W. Hamming for error correction. Redundant bits – Redundant bits are extra binary bits that are generated and added to the information-carrying bits of data transfer to ensure that no bits were lost during the data transfer.General Algorithm of Hamming code: Hamming Code is simply the use of extra parity bits to allow the identification of an error.Write the bit positions starting from 1 in binary form (1, 10, 11, 100, etc). All the bit positions that are a power of 2 are marked as parity bits (1, 2, 4, 8, etc). All the other bit positions are marked as data bits. Each data bit is included in a unique set of parity bits, as determined its bit position in binary form. a. Parity bit 1 covers all the bits positions whose binary representation includes a 1 in the least significant position (1, 3, 5, 7, 9, 11, etc). b. Parity bit 2 covers all the bits positions whose binary representation includes a 1 in the second position from the least significant bit (2, 3, 6, 7, 10, 11, etc). c. Parity bit 4 covers all the bits positions whose binary representation includes a 1 in the third position from the least significant bit (4–7, 12–15, 20–23, etc). d. Parity bit 8 covers all the bits positions whose binary representation includes a 1 in the fourth position from the least significant bit bits (8–15, 24–31, 40–47, etc). e. In general, each parity bit covers all bits where the bitwise AND of the parity position and the bit position is non-zero. Since we check for even parity set a parity bit to 1 if the total number of ones in the positions it checks is odd. Set a parity bit to 0 if the total number of ones in the positions it checks is even.'"
      ]
     },
     "execution_count": 46,
     "metadata": {},
     "output_type": "execute_result"
    }
   ],
   "source": [
    "full_text"
   ]
  }
 ],
 "metadata": {
  "colab": {
   "provenance": []
  },
  "kernelspec": {
   "display_name": "Python 3 (ipykernel)",
   "language": "python",
   "name": "python3"
  },
  "language_info": {
   "codemirror_mode": {
    "name": "ipython",
    "version": 3
   },
   "file_extension": ".py",
   "mimetype": "text/x-python",
   "name": "python",
   "nbconvert_exporter": "python",
   "pygments_lexer": "ipython3",
   "version": "3.9.12"
  }
 },
 "nbformat": 4,
 "nbformat_minor": 1
}
