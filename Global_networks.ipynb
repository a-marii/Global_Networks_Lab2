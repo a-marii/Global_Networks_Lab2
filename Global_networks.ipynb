{
 "cells": [
  {
   "cell_type": "markdown",
   "metadata": {
    "id": "YQCJvh8Qgydj"
   },
   "source": [
    "# Загрузка данных"
   ]
  },
  {
   "cell_type": "code",
   "execution_count": null,
   "metadata": {
    "id": "r25Jh_F0gxpk"
   },
   "outputs": [],
   "source": [
    "f = open('Text.txt')\n",
    "full_text=f.read()"
   ]
  },
  {
   "cell_type": "code",
   "execution_count": null,
   "metadata": {
    "colab": {
     "base_uri": "https://localhost:8080/"
    },
    "id": "39v4PiDyqgwV",
    "outputId": "211c17c5-8683-40b2-be7a-12fa439e24d6"
   },
   "outputs": [
    {
     "data": {
      "text/plain": [
       "2904"
      ]
     },
     "execution_count": 6,
     "metadata": {},
     "output_type": "execute_result"
    }
   ],
   "source": [
    "len(full_text)"
   ]
  },
  {
   "cell_type": "markdown",
   "metadata": {
    "id": "2qKU13WHg3_v"
   },
   "source": [
    "# Кодирование каждого уникального символа 8-битной последовательностью"
   ]
  },
  {
   "cell_type": "code",
   "execution_count": null,
   "metadata": {
    "id": "9Inhd-et1X-v"
   },
   "outputs": [],
   "source": [
    "def encoding(text):\n",
    "  dictionary={'':'00000000'}\n",
    "  code=1\n",
    "  for i in range(len(text)):\n",
    "    if text[i] not in dictionary:\n",
    "      temp=str(bin(code)[2:])\n",
    "      while len(temp)<8:\n",
    "        temp='0'+str(temp)\n",
    "      dictionary[text[i]] =temp\n",
    "      code+=1\n",
    "  return dictionary"
   ]
  },
  {
   "cell_type": "code",
   "execution_count": null,
   "metadata": {
    "id": "tFG1MWfv1v2h"
   },
   "outputs": [],
   "source": [
    "word_dict=encoding(full_text)"
   ]
  },
  {
   "cell_type": "markdown",
   "metadata": {
    "id": "-BHve1-dhSk1"
   },
   "source": [
    "# Составление информационных слов для кода Хемминга"
   ]
  },
  {
   "cell_type": "code",
   "execution_count": null,
   "metadata": {
    "id": "Cvdlb0wm2MJ6"
   },
   "outputs": [],
   "source": [
    "def codewords(text,dictionary):\n",
    "  bin_text=''\n",
    "  words=[]\n",
    "  for i in text:\n",
    "    bin_text+=dictionary[i]\n",
    "  for i in range(0,len(bin_text),103):\n",
    "    words.append(bin_text[i:i+103])\n",
    "    while len(words[-1])<103:\n",
    "      words[-1]+='0'\n",
    "  return words"
   ]
  },
  {
   "cell_type": "code",
   "execution_count": null,
   "metadata": {
    "id": "LxHmxrpM3PxH"
   },
   "outputs": [],
   "source": [
    "code_words=codewords(full_text,word_dict)"
   ]
  },
  {
   "cell_type": "markdown",
   "metadata": {
    "id": "o4dRJ8Nriedq"
   },
   "source": [
    "# CRC-64, вычисление первых контрольных сумм для каждого слова\n"
   ]
  },
  {
   "cell_type": "code",
   "execution_count": null,
   "metadata": {
    "colab": {
     "base_uri": "https://localhost:8080/"
    },
    "id": "CoXvBQUlgoWy",
    "outputId": "4bed6984-fd09-44c4-ecf1-9695afde72dc"
   },
   "outputs": [
    {
     "name": "stdout",
     "output_type": "stream",
     "text": [
      "Looking in indexes: https://pypi.org/simple, https://us-python.pkg.dev/colab-wheels/public/simple/\n",
      "Collecting crc64iso\n",
      "  Downloading crc64iso-0.0.2-py3-none-any.whl (4.6 kB)\n",
      "Installing collected packages: crc64iso\n",
      "Successfully installed crc64iso-0.0.2\n"
     ]
    }
   ],
   "source": [
    "!pip install crc64iso"
   ]
  },
  {
   "cell_type": "code",
   "execution_count": null,
   "metadata": {
    "id": "F7FAG7V7Yjj2"
   },
   "outputs": [],
   "source": [
    "from crc64iso.crc64iso import crc64\n",
    "checksum1=[crc64(i) for i in code_words]"
   ]
  },
  {
   "cell_type": "markdown",
   "metadata": {
    "id": "SdF4BaQyilo9"
   },
   "source": [
    "# Код Хемминга, добавление контрольных бит в информационное слово"
   ]
  },
  {
   "cell_type": "code",
   "execution_count": null,
   "metadata": {
    "id": "ZFpFtSBl2AB9"
   },
   "outputs": [],
   "source": [
    "def hamming_code(words):\n",
    "  hamming_code=[]\n",
    "  for i in range(len(words)):\n",
    "    hamming_code.append(words[i])\n",
    "    for j in range(7):\n",
    "      hamming_code[i]=hamming_code[i][:2**j-1]+str(0)+hamming_code[i][2**j-1:]\n",
    "    for j in range(7):\n",
    "      start= 2**j-1+1\n",
    "      stop=2*2**j-1\n",
    "      line_sum=0\n",
    "      while start<=(len(str(hamming_code[i]))):\n",
    "        arr=[int(i) for i in hamming_code[i][start:stop]]\n",
    "        line_sum+=sum(arr)\n",
    "        start=stop+2**j\n",
    "        stop=start+2**j\n",
    "      hamming_code[i]=hamming_code[i][:2**j-1]+str(line_sum%2)+hamming_code[i][2**j:]\n",
    "  return hamming_code"
   ]
  },
  {
   "cell_type": "code",
   "execution_count": null,
   "metadata": {
    "colab": {
     "base_uri": "https://localhost:8080/"
    },
    "id": "_ktbg2jK4f0w",
    "outputId": "b6894317-06ce-4cd9-8418-ff50913774cd"
   },
   "outputs": [
    {
     "name": "stdout",
     "output_type": "stream",
     "text": [
      "Длина информационного слова с учетом контрольных бит: 110\n",
      "Количество информационных слов: 226\n"
     ]
    }
   ],
   "source": [
    "hamming_words=hamming_code(code_words)\n",
    "print('Длина информационного слова с учетом контрольных бит:',len(hamming_words[0]))\n",
    "print('Количество информационных слов:',len(hamming_words))"
   ]
  },
  {
   "cell_type": "markdown",
   "metadata": {
    "id": "Swms4J-iixQj"
   },
   "source": [
    "# Генерация случайных ошибок"
   ]
  },
  {
   "cell_type": "markdown",
   "metadata": {
    "id": "PasQ3OjpfMcy"
   },
   "source": [
    "Генерация рандомных ошибок для каждого слова"
   ]
  },
  {
   "cell_type": "code",
   "execution_count": null,
   "metadata": {
    "id": "SAvcldWd5vMy"
   },
   "outputs": [],
   "source": [
    "from random import randint\n",
    "\n",
    "random_numbers=[]\n",
    "for i in range(len(hamming_words)):\n",
    "  random_numbers.append(randint(0, len(hamming_words[i])-1))"
   ]
  },
  {
   "cell_type": "markdown",
   "metadata": {
    "id": "RxnGGRCGfRPk"
   },
   "source": [
    "Генерация рандомных номеров преложений для добавления нескольких ошибок в предложения"
   ]
  },
  {
   "cell_type": "code",
   "execution_count": null,
   "metadata": {
    "id": "0g_QItImn0IW"
   },
   "outputs": [],
   "source": [
    "from random import randint\n",
    "\n",
    "random_sentence=[]\n",
    "for i in range(40):\n",
    "  random_sentence.append(randint(len(hamming_words)-20, len(hamming_words)-1))"
   ]
  },
  {
   "cell_type": "code",
   "execution_count": null,
   "metadata": {
    "colab": {
     "base_uri": "https://localhost:8080/"
    },
    "id": "juZMBVN2n_8h",
    "outputId": "8cd8dc5f-6c42-45ab-8ab7-82958cf6cd3d"
   },
   "outputs": [
    {
     "data": {
      "text/plain": [
       "209    5\n",
       "210    3\n",
       "220    3\n",
       "207    3\n",
       "212    3\n",
       "215    3\n",
       "206    3\n",
       "214    2\n",
       "219    2\n",
       "213    2\n",
       "216    2\n",
       "221    2\n",
       "224    2\n",
       "225    2\n",
       "211    1\n",
       "217    1\n",
       "222    1\n",
       "dtype: int64"
      ]
     },
     "execution_count": 18,
     "metadata": {},
     "output_type": "execute_result"
    }
   ],
   "source": [
    "import pandas as pd\n",
    "pd.Series(random_sentence).value_counts()"
   ]
  },
  {
   "cell_type": "markdown",
   "metadata": {
    "id": "po4dgHppi92s"
   },
   "source": [
    "# Внесение ошибок"
   ]
  },
  {
   "cell_type": "markdown",
   "metadata": {
    "id": "Ws15LoGdzMku"
   },
   "source": [
    "Сообщение без ошибок"
   ]
  },
  {
   "cell_type": "code",
   "execution_count": null,
   "metadata": {
    "id": "M1yh4Tc0zMzx"
   },
   "outputs": [],
   "source": [
    "mistakes_0=hamming_words.copy()"
   ]
  },
  {
   "cell_type": "markdown",
   "metadata": {
    "id": "mDWkgJubfmmg"
   },
   "source": [
    "Внесение ошибки в каждое слово"
   ]
  },
  {
   "cell_type": "code",
   "execution_count": null,
   "metadata": {
    "id": "OtSUZru66Jai"
   },
   "outputs": [],
   "source": [
    "mistakes_1=hamming_words.copy()\n",
    "for i in range(len(hamming_words)):\n",
    "  mistakes_1[i]=mistakes_1[i][:random_numbers[i]]+str(abs(int(mistakes_1[i][random_numbers[i]])-1))+mistakes_1[i][random_numbers[i]+1:]"
   ]
  },
  {
   "cell_type": "markdown",
   "metadata": {
    "id": "bE52sp1siSin"
   },
   "source": [
    "Внесение нескольких ошибок "
   ]
  },
  {
   "cell_type": "code",
   "execution_count": null,
   "metadata": {
    "id": "FuhOzLZliSB9"
   },
   "outputs": [],
   "source": [
    "mistakes_few=hamming_words.copy()\n",
    "for i in range(len(random_sentence)):\n",
    "  mistakes_few[random_sentence[i]]=mistakes_few[random_sentence[i]][:random_numbers[i]]+str(abs(int(mistakes_few[random_sentence[i]][random_numbers[i]])-1))+mistakes_few[random_sentence[i]][random_numbers[i]+1:]"
   ]
  },
  {
   "cell_type": "markdown",
   "metadata": {
    "id": "ZtDdC9m-fwso"
   },
   "source": [
    "Выявление ошибок с помощью кода Хемминга"
   ]
  },
  {
   "cell_type": "code",
   "execution_count": null,
   "metadata": {
    "id": "zdbL9M8854FE"
   },
   "outputs": [],
   "source": [
    "def err_sent_detection(mistakes):\n",
    "  mistakes_checker=[]\n",
    "\n",
    "  for i in range(len(mistakes)):\n",
    "    mistakes_checker.append(mistakes[i])\n",
    "    for j in range(7):\n",
    "      start= 2**j-1+1\n",
    "      stop=2*2**j-1\n",
    "      line_sum=0\n",
    "      while start<=(len(str(mistakes_checker[i]))):\n",
    "        arr=[int(i) for i in mistakes_checker[i][start:stop]]\n",
    "        line_sum+=sum(arr)\n",
    "        start=stop+2**j\n",
    "        stop=start+2**j\n",
    "      mistakes_checker[i]=mistakes_checker[i][:2**j-1]+str(line_sum%2)+mistakes_checker[i][2**j:]\n",
    "  numb_sent=[]\n",
    "  for i in range(len(mistakes_checker)):\n",
    "    for j  in range(len(mistakes_checker[i])):\n",
    "      if(mistakes_checker[i][j]!=mistakes[i][j]):\n",
    "        # print(\"There is a mistake, sentence number \",i)\n",
    "        numb_sent.append(i)\n",
    "        break\n",
    "  return numb_sent"
   ]
  },
  {
   "cell_type": "code",
   "execution_count": null,
   "metadata": {
    "id": "YQAwqqzZit74"
   },
   "outputs": [],
   "source": [
    "numb_sent_0=err_sent_detection(mistakes_0)\n",
    "numb_sent_1=err_sent_detection(mistakes_1)\n",
    "numb_sent_few=err_sent_detection(mistakes_few)"
   ]
  },
  {
   "cell_type": "markdown",
   "metadata": {
    "id": "TYc0mazgjNYk"
   },
   "source": [
    "# Поиск ошибок"
   ]
  },
  {
   "cell_type": "code",
   "execution_count": null,
   "metadata": {
    "id": "wqo_61-y57pf"
   },
   "outputs": [],
   "source": [
    "def mistakes_detection(numb_sent,mistakes):\n",
    "  mistakes_checker=[]\n",
    "  mis=[]\n",
    "  for i in range(len(numb_sent)):\n",
    "    mistakes_checker.append(mistakes[numb_sent[i]])\n",
    "    mis.append([])\n",
    "    for j in range(7):\n",
    "      start= 2**j-1\n",
    "      stop=2*2**j-1\n",
    "      line_sum=0\n",
    "      while start<(len(str(mistakes_checker[i]))):\n",
    "        arr=[int(i) for i in mistakes_checker[i][start:stop]]\n",
    "        line_sum+=sum(arr)\n",
    "        start=stop+2**j\n",
    "        stop=start+2**j\n",
    "      mis[i].append(line_sum%2)\n",
    "  results=[]\n",
    "  for i in range(len(mis)):\n",
    "    result=0\n",
    "    for j in reversed(range(7)):\n",
    "      result+=mis[i][j]*2**j\n",
    "    results.append(result-1)\n",
    "  return results\n",
    "      "
   ]
  },
  {
   "cell_type": "code",
   "execution_count": null,
   "metadata": {
    "id": "qAzuKnPqj1N2"
   },
   "outputs": [],
   "source": [
    "mist_pos_0=mistakes_detection(numb_sent_0,mistakes_0)\n",
    "mist_pos_1=mistakes_detection(numb_sent_1,mistakes_1)\n",
    "mist_pos_few=mistakes_detection(numb_sent_few,mistakes_few)"
   ]
  },
  {
   "cell_type": "markdown",
   "metadata": {
    "id": "QeLreT_pmNzD"
   },
   "source": [
    "# Исправление ошибок"
   ]
  },
  {
   "cell_type": "code",
   "execution_count": null,
   "metadata": {
    "id": "0Q91Wd4T0RPh"
   },
   "outputs": [],
   "source": [
    "def mistakes_fixing(mist_pos,numb_sent, mistakes):\n",
    "  words=mistakes.copy()\n",
    "  for i in range(len(mist_pos)):\n",
    "    try:\n",
    "      words[numb_sent[i]]=words[numb_sent[i]][:mist_pos[i]]+str(abs(int(words[numb_sent[i]][mist_pos[i]])-1))+words[numb_sent[i]][mist_pos[i]+1:]\n",
    "    except IndexError: continue\n",
    "  return words\n"
   ]
  },
  {
   "cell_type": "code",
   "execution_count": null,
   "metadata": {
    "id": "E8qw9LVTzcmE"
   },
   "outputs": [],
   "source": [
    "words_0 = mistakes_fixing(mist_pos_0,numb_sent_0, mistakes_0)\n",
    "words_1 = mistakes_fixing(mist_pos_1,numb_sent_1, mistakes_1)\n",
    "words_few = mistakes_fixing(mist_pos_few,numb_sent_few, mistakes_few)"
   ]
  },
  {
   "cell_type": "markdown",
   "metadata": {
    "id": "P3gLaJ5PjhgJ"
   },
   "source": [
    "# Удаление контрольных бит"
   ]
  },
  {
   "cell_type": "code",
   "execution_count": null,
   "metadata": {
    "id": "cTPrqUFk3i-b"
   },
   "outputs": [],
   "source": [
    "def decoding(words):\n",
    "  decoder=[]\n",
    "  for i in range(len(words)):\n",
    "    decoder.append(words[i])\n",
    "    for j in reversed(range(7)):\n",
    "      decoder[i]=decoder[i][:2**j-1]+decoder[i][2**j:]\n",
    "  return decoder"
   ]
  },
  {
   "cell_type": "code",
   "execution_count": null,
   "metadata": {
    "id": "1VAHG8lu4PnO"
   },
   "outputs": [],
   "source": [
    "dec_words_0=decoding(words_0)\n",
    "dec_words_1=decoding(words_1)\n",
    "dec_words_few=decoding(words_few)"
   ]
  },
  {
   "cell_type": "markdown",
   "metadata": {
    "id": "uMlzhwwIjlzg"
   },
   "source": [
    "# Вычисление новых контрольных сумм"
   ]
  },
  {
   "cell_type": "code",
   "execution_count": null,
   "metadata": {
    "id": "nHB8vqnnzly1"
   },
   "outputs": [],
   "source": [
    "from crc64iso.crc64iso import crc64\n",
    "checksum2=[crc64(i) for i in dec_words_0]"
   ]
  },
  {
   "cell_type": "code",
   "execution_count": null,
   "metadata": {
    "colab": {
     "base_uri": "https://localhost:8080/"
    },
    "id": "zqxKcDnVznRs",
    "outputId": "2297b26a-bb44-4c49-dc7b-85fca736a152"
   },
   "outputs": [
    {
     "data": {
      "text/plain": [
       "True"
      ]
     },
     "execution_count": 31,
     "metadata": {},
     "output_type": "execute_result"
    }
   ],
   "source": [
    "checksum1==checksum2"
   ]
  },
  {
   "cell_type": "code",
   "execution_count": null,
   "metadata": {
    "id": "FKlHfbIfY1S9"
   },
   "outputs": [],
   "source": [
    "from crc64iso.crc64iso import crc64\n",
    "checksum2=[crc64(i) for i in dec_words_1]"
   ]
  },
  {
   "cell_type": "code",
   "execution_count": null,
   "metadata": {
    "colab": {
     "base_uri": "https://localhost:8080/"
    },
    "id": "zni4GZsFlXNe",
    "outputId": "f4d6aa99-8200-42bc-d9c6-410ad83bc48d"
   },
   "outputs": [
    {
     "data": {
      "text/plain": [
       "True"
      ]
     },
     "execution_count": 33,
     "metadata": {},
     "output_type": "execute_result"
    }
   ],
   "source": [
    "checksum1==checksum2"
   ]
  },
  {
   "cell_type": "code",
   "execution_count": null,
   "metadata": {
    "id": "zHloYShqnH49"
   },
   "outputs": [],
   "source": [
    "from crc64iso.crc64iso import crc64\n",
    "checksum2=[crc64(i) for i in dec_words_few]"
   ]
  },
  {
   "cell_type": "code",
   "execution_count": null,
   "metadata": {
    "colab": {
     "base_uri": "https://localhost:8080/"
    },
    "id": "24IQYSRcnKEi",
    "outputId": "48a62723-564e-4748-86e6-8237521c9587"
   },
   "outputs": [
    {
     "data": {
      "text/plain": [
       "False"
      ]
     },
     "execution_count": 35,
     "metadata": {},
     "output_type": "execute_result"
    }
   ],
   "source": [
    "checksum1==checksum2"
   ]
  },
  {
   "cell_type": "code",
   "execution_count": null,
   "metadata": {
    "colab": {
     "base_uri": "https://localhost:8080/"
    },
    "id": "CSilOpJty7Hw",
    "outputId": "8a8bf0ac-0780-46fb-a219-d27e2da20628"
   },
   "outputs": [
    {
     "data": {
      "text/plain": [
       "True"
      ]
     },
     "execution_count": 36,
     "metadata": {},
     "output_type": "execute_result"
    }
   ],
   "source": [
    "numb_sent_few==sorted(list(set(random_sentence)))"
   ]
  },
  {
   "cell_type": "code",
   "execution_count": null,
   "metadata": {
    "colab": {
     "base_uri": "https://localhost:8080/"
    },
    "id": "3qiLUWqB1nmf",
    "outputId": "4692860a-f90f-4688-cab5-f4e81d9a72ce"
   },
   "outputs": [
    {
     "name": "stdout",
     "output_type": "stream",
     "text": [
      "206 False\n",
      "207 False\n",
      "209 False\n",
      "210 False\n",
      "211 True\n",
      "212 False\n",
      "213 False\n",
      "214 False\n",
      "215 False\n",
      "216 False\n",
      "217 True\n",
      "219 False\n",
      "220 False\n",
      "221 False\n",
      "222 True\n",
      "224 False\n",
      "225 False\n"
     ]
    }
   ],
   "source": [
    "for i in numb_sent_few:\n",
    "  print(i,checksum1[i]==checksum2[i])"
   ]
  },
  {
   "cell_type": "code",
   "execution_count": null,
   "metadata": {
    "colab": {
     "base_uri": "https://localhost:8080/"
    },
    "id": "cD1S82DH2A5R",
    "outputId": "86f4db05-c9d8-46d4-ad49-05b5bff7c29d"
   },
   "outputs": [
    {
     "data": {
      "text/plain": [
       "209    5\n",
       "210    3\n",
       "220    3\n",
       "207    3\n",
       "212    3\n",
       "215    3\n",
       "206    3\n",
       "214    2\n",
       "219    2\n",
       "213    2\n",
       "216    2\n",
       "221    2\n",
       "224    2\n",
       "225    2\n",
       "211    1\n",
       "217    1\n",
       "222    1\n",
       "dtype: int64"
      ]
     },
     "execution_count": 38,
     "metadata": {},
     "output_type": "execute_result"
    }
   ],
   "source": [
    "pd.Series(random_sentence).value_counts()"
   ]
  },
  {
   "cell_type": "markdown",
   "metadata": {
    "id": "EM2uoDL0nLDZ"
   },
   "source": [
    "Вывод\n",
    "\n",
    "1) сообщения без ошибок были верно пререданы и контрольные суммы всех сообщений совпадают с исходными;\n",
    "\n",
    "2) все одиночные ошибки были найдены и исправлены в каждом предложении;\n",
    "\n",
    "3) были выявлены все предложения с ошибками, но были исправлены только одиночные ошибки."
   ]
  },
  {
   "cell_type": "markdown",
   "metadata": {
    "id": "pLbcd7YYj6jq"
   },
   "source": [
    "# Декодинг"
   ]
  },
  {
   "cell_type": "code",
   "execution_count": null,
   "metadata": {
    "id": "KfBBGmSaRl9D"
   },
   "outputs": [],
   "source": [
    "def get_key(d, value):\n",
    "  try:\n",
    "    for k, v in d.items():\n",
    "      if v == value:\n",
    "        return k\n",
    "  except TypeError:\n",
    "    print(d[0])\n",
    "    return d[0]\n"
   ]
  },
  {
   "cell_type": "code",
   "execution_count": null,
   "metadata": {
    "id": "Mn_memIlTR1U"
   },
   "outputs": [],
   "source": [
    "def bin2words(dec_words):\n",
    "  full_bin=''\n",
    "  for i in range(len(dec_words)):\n",
    "    full_bin+=dec_words[i]\n",
    "  final_text=''\n",
    "  for j in range(0,len(full_bin)-7,8):\n",
    "      try:\n",
    "        final_text+=get_key(word_dict,full_bin[j:j+8])\n",
    "      except TypeError:\n",
    "        final_text+=''\n",
    "  return final_text"
   ]
  },
  {
   "cell_type": "code",
   "execution_count": null,
   "metadata": {
    "id": "nakiDnK-nq7e"
   },
   "outputs": [],
   "source": [
    "text_0=bin2words(dec_words_0)\n",
    "text_1=bin2words(dec_words_1)\n",
    "text_few=bin2words(dec_words_few)"
   ]
  },
  {
   "cell_type": "code",
   "execution_count": null,
   "metadata": {
    "colab": {
     "base_uri": "https://localhost:8080/"
    },
    "id": "dYb_U34F2WXM",
    "outputId": "739961a5-6dcd-424f-855f-46c54a4cfc3a"
   },
   "outputs": [
    {
     "data": {
      "text/plain": [
       "True"
      ]
     },
     "execution_count": 42,
     "metadata": {},
     "output_type": "execute_result"
    }
   ],
   "source": [
    "text_0==full_text"
   ]
  },
  {
   "cell_type": "code",
   "execution_count": null,
   "metadata": {
    "colab": {
     "base_uri": "https://localhost:8080/"
    },
    "id": "l9TRF935gjob",
    "outputId": "1c09b6c3-27aa-4957-c554-4c4cf5963b19"
   },
   "outputs": [
    {
     "data": {
      "text/plain": [
       "True"
      ]
     },
     "execution_count": 43,
     "metadata": {},
     "output_type": "execute_result"
    }
   ],
   "source": [
    "text_1==full_text"
   ]
  },
  {
   "cell_type": "code",
   "execution_count": null,
   "metadata": {
    "colab": {
     "base_uri": "https://localhost:8080/"
    },
    "id": "tVz3D5_xn2JT",
    "outputId": "3dda50d2-9e3e-41d2-a273-1e3b94b857f4"
   },
   "outputs": [
    {
     "data": {
      "text/plain": [
       "False"
      ]
     },
     "execution_count": 44,
     "metadata": {},
     "output_type": "execute_result"
    }
   ],
   "source": [
    "text_few==full_text"
   ]
  },
  {
   "cell_type": "code",
   "execution_count": null,
   "metadata": {
    "colab": {
     "base_uri": "https://localhost:8080/",
     "height": 227
    },
    "id": "2xUuzatEUKi6",
    "outputId": "2d724b44-e0a5-45b0-e959-babe62fc98e2"
   },
   "outputs": [
    {
     "data": {
      "application/vnd.google.colaboratory.intrinsic+json": {
       "type": "string"
      },
      "text/plain": [
       "'Допустим, у нас есть сообщение «habr», которое необходимо передать без ошибок. Для этого сначала нужно наше сообщение закодировать при помощи Кода Хэмминга. Нам необходимо представить его в бинарном виде. На этом этапе стоит определиться с, так называемой, длиной информационного слова, то есть длиной строки из нулей и единиц, которые мы будем кодировать. Допустим, у нас длина слова будет равна 16. Таким образом, нам необходимо разделить наше исходное сообщение («habr») на блоки по 16 бит, которые мы будем потом кодировать отдельно друг от друга. Так как один символ занимает в памяти 8 бит, то в одно кодируемое слово помещается ровно два ASCII символа. Итак, мы получили две бинарные строки по 16 бит. После этого процесс кодирования распараллеливается, и две части сообщения («ha» и «br») кодируются независимо друг от друга. Рассмотрим, как это делается на примере первой части. Прежде всего, необходимо вставить контрольные биты. Они вставляются в строго определённых местах — это позиции с номерами, равными степеням двойки.Hamming code is a set of error-correction codes that can be used to detect and correct the errors that can occur when the data is moved or stored from the sender to the receiver. It is a technique developed by R.W. Hamming for error correction. Redundant bits – Redundant bits are extra binary bits that are generated and added to the information-carrying bits of data transfer to ensure that no bits were lost during the data transfer.General Algorithm of Hamming code: Hamming Code is simply the use of extra parity bits to allow the identification of an error.Write the bit positions starting from 1 in binary form (1, 10, 11, 100, etc). All the bit positions that are a power of 2 are marked as parity bits (1, 2, 4, 8, etc). All the other bit positions are marked as data bits. Each data bit is included in a unique set of parity bits, as determined its bit position in binary form. a. Parity bit 1 covers all the bits positions whose binary representation includes a 1 in the least significant position (1, 3, 5, 7, 9, 11, etc). b. Parity bit 2 covers all the bits positions whose binary representation includes a 1 in the second position from the least significant bit (2, 3, 6, 7, 10, 11, etc). c. Parity bit 4 covers all the bits positions whose binary representation includes a 1 in the third position from the least significant bit (4–7, 12–15, 20–23, etc). d. Parity bit 8 covers all the bits positions whose binary representation includes a 1 in the fourth position from the least significant bit bits (8–15, 24–31, 40–47, etc). e. In general, each parity bit covers all bits where the bitwise AND of theдp«rity posisiof andдthebit position isьon-zqrz. Пince e chсcR for even paritW seс a 7arity ituto ы ifмtщe total nmbeи of onGs iN the positions it checks is odd. Sgt a parily bit 0w 0 if tдe total nomber of ones in the positions it caecRs яt even.у'"
      ]
     },
     "execution_count": 45,
     "metadata": {},
     "output_type": "execute_result"
    }
   ],
   "source": [
    "text_few"
   ]
  },
  {
   "cell_type": "code",
   "execution_count": null,
   "metadata": {
    "colab": {
     "base_uri": "https://localhost:8080/",
     "height": 227
    },
    "id": "XHCkmpLdmdIN",
    "outputId": "d95eb4fe-b235-40da-ec67-48fce5b03e1b"
   },
   "outputs": [
    {
     "data": {
      "application/vnd.google.colaboratory.intrinsic+json": {
       "type": "string"
      },
      "text/plain": [
       "'Допустим, у нас есть сообщение «habr», которое необходимо передать без ошибок. Для этого сначала нужно наше сообщение закодировать при помощи Кода Хэмминга. Нам необходимо представить его в бинарном виде. На этом этапе стоит определиться с, так называемой, длиной информационного слова, то есть длиной строки из нулей и единиц, которые мы будем кодировать. Допустим, у нас длина слова будет равна 16. Таким образом, нам необходимо разделить наше исходное сообщение («habr») на блоки по 16 бит, которые мы будем потом кодировать отдельно друг от друга. Так как один символ занимает в памяти 8 бит, то в одно кодируемое слово помещается ровно два ASCII символа. Итак, мы получили две бинарные строки по 16 бит. После этого процесс кодирования распараллеливается, и две части сообщения («ha» и «br») кодируются независимо друг от друга. Рассмотрим, как это делается на примере первой части. Прежде всего, необходимо вставить контрольные биты. Они вставляются в строго определённых местах — это позиции с номерами, равными степеням двойки.Hamming code is a set of error-correction codes that can be used to detect and correct the errors that can occur when the data is moved or stored from the sender to the receiver. It is a technique developed by R.W. Hamming for error correction. Redundant bits – Redundant bits are extra binary bits that are generated and added to the information-carrying bits of data transfer to ensure that no bits were lost during the data transfer.General Algorithm of Hamming code: Hamming Code is simply the use of extra parity bits to allow the identification of an error.Write the bit positions starting from 1 in binary form (1, 10, 11, 100, etc). All the bit positions that are a power of 2 are marked as parity bits (1, 2, 4, 8, etc). All the other bit positions are marked as data bits. Each data bit is included in a unique set of parity bits, as determined its bit position in binary form. a. Parity bit 1 covers all the bits positions whose binary representation includes a 1 in the least significant position (1, 3, 5, 7, 9, 11, etc). b. Parity bit 2 covers all the bits positions whose binary representation includes a 1 in the second position from the least significant bit (2, 3, 6, 7, 10, 11, etc). c. Parity bit 4 covers all the bits positions whose binary representation includes a 1 in the third position from the least significant bit (4–7, 12–15, 20–23, etc). d. Parity bit 8 covers all the bits positions whose binary representation includes a 1 in the fourth position from the least significant bit bits (8–15, 24–31, 40–47, etc). e. In general, each parity bit covers all bits where the bitwise AND of the parity position and the bit position is non-zero. Since we check for even parity set a parity bit to 1 if the total number of ones in the positions it checks is odd. Set a parity bit to 0 if the total number of ones in the positions it checks is even.'"
      ]
     },
     "execution_count": 46,
     "metadata": {},
     "output_type": "execute_result"
    }
   ],
   "source": [
    "full_text"
   ]
  }
 ],
 "metadata": {
  "colab": {
   "provenance": []
  },
  "kernelspec": {
   "display_name": "Python 3 (ipykernel)",
   "language": "python",
   "name": "python3"
  },
  "language_info": {
   "codemirror_mode": {
    "name": "ipython",
    "version": 3
   },
   "file_extension": ".py",
   "mimetype": "text/x-python",
   "name": "python",
   "nbconvert_exporter": "python",
   "pygments_lexer": "ipython3",
   "version": "3.9.12"
  }
 },
 "nbformat": 4,
 "nbformat_minor": 1
}
